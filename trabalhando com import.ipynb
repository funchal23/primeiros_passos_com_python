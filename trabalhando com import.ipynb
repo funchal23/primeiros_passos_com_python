{
  "nbformat": 4,
  "nbformat_minor": 0,
  "metadata": {
    "colab": {
      "name": "lógica.ipynb",
      "provenance": [],
      "collapsed_sections": [],
      "authorship_tag": "ABX9TyNDCzyt6iNpq48CIfFTQFiz",
      "include_colab_link": true
    },
    "kernelspec": {
      "name": "python3",
      "display_name": "Python 3"
    },
    "language_info": {
      "name": "python"
    }
  },
  "cells": [
    {
      "cell_type": "markdown",
      "metadata": {
        "id": "view-in-github",
        "colab_type": "text"
      },
      "source": [
        "<a href=\"https://colab.research.google.com/github/funchal23/primeiros_passos_com_python/blob/main/trabalhando%20com%20import.ipynb\" target=\"_parent\"><img src=\"https://colab.research.google.com/assets/colab-badge.svg\" alt=\"Open In Colab\"/></a>"
      ]
    },
    {
      "cell_type": "markdown",
      "metadata": {
        "id": "WUdG6lLFup-e"
      },
      "source": [
        "## Lógica de programação com Python"
      ]
    },
    {
      "cell_type": "code",
      "metadata": {
        "colab": {
          "base_uri": "https://localhost:8080/"
        },
        "id": "gIMZrJuetWnd",
        "outputId": "c5d8d307-5eb6-415d-ad95-1b22a6083597"
      },
      "source": [
        "1+1"
      ],
      "execution_count": null,
      "outputs": [
        {
          "output_type": "execute_result",
          "data": {
            "text/plain": [
              "2"
            ]
          },
          "metadata": {},
          "execution_count": 19
        }
      ]
    },
    {
      "cell_type": "code",
      "metadata": {
        "colab": {
          "base_uri": "https://localhost:8080/"
        },
        "id": "cCa-fIRwu8Ew",
        "outputId": "67391bec-8be7-4e46-d29a-75993e2ec48f"
      },
      "source": [
        "2*2"
      ],
      "execution_count": null,
      "outputs": [
        {
          "output_type": "execute_result",
          "data": {
            "text/plain": [
              "4"
            ]
          },
          "metadata": {},
          "execution_count": 20
        }
      ]
    },
    {
      "cell_type": "code",
      "metadata": {
        "id": "sXtkVQLru-AJ"
      },
      "source": [
        "nome = 'Lucas'"
      ],
      "execution_count": null,
      "outputs": []
    },
    {
      "cell_type": "code",
      "metadata": {
        "colab": {
          "base_uri": "https://localhost:8080/",
          "height": 35
        },
        "id": "D0L0LSL3u_fy",
        "outputId": "5effc4b0-1200-4efb-b6d1-5aaf83b972e3"
      },
      "source": [
        "nome"
      ],
      "execution_count": null,
      "outputs": [
        {
          "output_type": "execute_result",
          "data": {
            "application/vnd.google.colaboratory.intrinsic+json": {
              "type": "string"
            },
            "text/plain": [
              "'Lucas'"
            ]
          },
          "metadata": {},
          "execution_count": 22
        }
      ]
    },
    {
      "cell_type": "code",
      "metadata": {
        "id": "F5XiSn4CvARB"
      },
      "source": [
        "idade = 23"
      ],
      "execution_count": null,
      "outputs": []
    },
    {
      "cell_type": "code",
      "metadata": {
        "colab": {
          "base_uri": "https://localhost:8080/"
        },
        "id": "qRBPq5F7vB1l",
        "outputId": "7c4201dc-7190-4131-c09d-e3da4e8a9382"
      },
      "source": [
        "idade"
      ],
      "execution_count": null,
      "outputs": [
        {
          "output_type": "execute_result",
          "data": {
            "text/plain": [
              "23"
            ]
          },
          "metadata": {},
          "execution_count": 24
        }
      ]
    },
    {
      "cell_type": "code",
      "metadata": {
        "colab": {
          "base_uri": "https://localhost:8080/"
        },
        "id": "klDGm5skvCft",
        "outputId": "874998d9-6a55-484e-d292-57f461247a89"
      },
      "source": [
        "print(f'Meu nome é {nome} e tenho {idade} anos')"
      ],
      "execution_count": null,
      "outputs": [
        {
          "output_type": "stream",
          "name": "stdout",
          "text": [
            "Meu nome é Lucas e tenho 23 anos\n"
          ]
        }
      ]
    },
    {
      "cell_type": "code",
      "metadata": {
        "id": "3HPPcOH6wNAu"
      },
      "source": [
        ""
      ],
      "execution_count": null,
      "outputs": []
    },
    {
      "cell_type": "markdown",
      "metadata": {
        "id": "U49Zv_hiwO0-"
      },
      "source": [
        "# Criando minha primeira função"
      ]
    },
    {
      "cell_type": "code",
      "metadata": {
        "id": "CjwzMbwEwSrO"
      },
      "source": [
        "def cumprimento():\n",
        "  nome = input('Qual o seu nome? ')\n",
        "  print(f'Olá {nome}')\n",
        "  sobrenome = input('E qual o seu sobrenome? ')\n",
        "  print(f'Seu nome completo é {nome} {sobrenome}')"
      ],
      "execution_count": null,
      "outputs": []
    },
    {
      "cell_type": "code",
      "metadata": {
        "colab": {
          "base_uri": "https://localhost:8080/"
        },
        "id": "IHc7aMgMxViw",
        "outputId": "85ff1a31-9388-44ea-f7e4-31a7930f37d1"
      },
      "source": [
        "cumprimento()"
      ],
      "execution_count": null,
      "outputs": [
        {
          "output_type": "stream",
          "name": "stdout",
          "text": [
            "Qual o seu nome? Lucas\n",
            "Olá Lucas\n",
            "E qual o seu sobrenome? Funchal da Silva\n",
            "Seu nome completo é Lucas Funchal da Silva\n"
          ]
        }
      ]
    },
    {
      "cell_type": "code",
      "metadata": {
        "id": "H8pxQgWaxXbg"
      },
      "source": [
        "def saudacaoComParametro(nomeDaPessoa):\n",
        "  print(f'O seu nome é {nomeDaPessoa}')"
      ],
      "execution_count": null,
      "outputs": []
    },
    {
      "cell_type": "code",
      "metadata": {
        "id": "Gt2JETXcpRBg"
      },
      "source": [
        "nome = 'Edmara Maria Silva'"
      ],
      "execution_count": null,
      "outputs": []
    },
    {
      "cell_type": "code",
      "metadata": {
        "colab": {
          "base_uri": "https://localhost:8080/"
        },
        "id": "4hHn4k2vpUSJ",
        "outputId": "af8d1733-3e83-4428-b20a-ff68dacdf3b9"
      },
      "source": [
        "saudacaoComParametro(nome)"
      ],
      "execution_count": null,
      "outputs": [
        {
          "output_type": "stream",
          "name": "stdout",
          "text": [
            "O seu nome é Edmara Maria Silva\n"
          ]
        }
      ]
    },
    {
      "cell_type": "code",
      "metadata": {
        "id": "vqnba3j3pXd2"
      },
      "source": [
        ""
      ],
      "execution_count": null,
      "outputs": []
    },
    {
      "cell_type": "markdown",
      "metadata": {
        "id": "XPAq8S5EprJJ"
      },
      "source": [
        "# Condicionais"
      ]
    },
    {
      "cell_type": "code",
      "metadata": {
        "id": "XZM2QsyXptnL"
      },
      "source": [
        "idade = 19"
      ],
      "execution_count": null,
      "outputs": []
    },
    {
      "cell_type": "code",
      "metadata": {
        "id": "zRTR7Ag_pzN2"
      },
      "source": [
        "def verificaMaiorDeIdade(idade):\n",
        "  if idade >= 18:\n",
        "    print('Tem permissão para dirigir')\n",
        "  else:\n",
        "    print('Não tem permissão')"
      ],
      "execution_count": null,
      "outputs": []
    },
    {
      "cell_type": "code",
      "metadata": {
        "colab": {
          "base_uri": "https://localhost:8080/"
        },
        "id": "NBLeTcRcqIOv",
        "outputId": "7d278147-df5f-4a70-b570-8035614dd624"
      },
      "source": [
        "verificaMaiorDeIdade(idade)"
      ],
      "execution_count": null,
      "outputs": [
        {
          "output_type": "stream",
          "name": "stdout",
          "text": [
            "Tem permissão para dirigir\n"
          ]
        }
      ]
    },
    {
      "cell_type": "code",
      "metadata": {
        "id": "cY8LNELGqKU0"
      },
      "source": [
        "def verificaMaiorDeIdadeComParametro():\n",
        "  idade = int(input('Por favor, qual a sua idade? '))\n",
        "  verificaMaiorDeIdade(idade)"
      ],
      "execution_count": null,
      "outputs": []
    },
    {
      "cell_type": "code",
      "metadata": {
        "colab": {
          "base_uri": "https://localhost:8080/"
        },
        "id": "4jU-8XJiswKM",
        "outputId": "b3cb8dd5-d309-42ad-dd5f-c592665a9b26"
      },
      "source": [
        "verificaMaiorDeIdadeComParametro()"
      ],
      "execution_count": null,
      "outputs": [
        {
          "output_type": "stream",
          "name": "stdout",
          "text": [
            "Por favor, qual a sua idade? 19\n",
            "Tem permissão para dirigir\n"
          ]
        }
      ]
    },
    {
      "cell_type": "code",
      "metadata": {
        "id": "I65CqGhTsyvP"
      },
      "source": [
        "def velocidade(espaco, tempo):\n",
        "  velocidade = int(espaco/tempo)\n",
        "  print(f'Velocidade: {velocidade} m/s')"
      ],
      "execution_count": null,
      "outputs": []
    },
    {
      "cell_type": "code",
      "metadata": {
        "colab": {
          "base_uri": "https://localhost:8080/"
        },
        "id": "_Q2CwLlvuBNw",
        "outputId": "1aa467d2-d326-4f02-9ea5-0803774a5e76"
      },
      "source": [
        "velocidade(100, 20)"
      ],
      "execution_count": null,
      "outputs": [
        {
          "output_type": "stream",
          "name": "stdout",
          "text": [
            "Velocidade: 5 m/s\n"
          ]
        }
      ]
    },
    {
      "cell_type": "code",
      "metadata": {
        "colab": {
          "base_uri": "https://localhost:8080/"
        },
        "id": "e_b7FUtluGeF",
        "outputId": "57e2061e-6f30-4318-c033-8f356c106672"
      },
      "source": [
        "velocidade(240, 3)"
      ],
      "execution_count": null,
      "outputs": [
        {
          "output_type": "stream",
          "name": "stdout",
          "text": [
            "Velocidade: 80 m/s\n"
          ]
        }
      ]
    },
    {
      "cell_type": "code",
      "metadata": {
        "id": "tDkPWawkPBZb"
      },
      "source": [
        ""
      ],
      "execution_count": null,
      "outputs": []
    },
    {
      "cell_type": "markdown",
      "metadata": {
        "id": "BiZ4TUdFQwtH"
      },
      "source": [
        "# Listas"
      ]
    },
    {
      "cell_type": "code",
      "metadata": {
        "colab": {
          "base_uri": "https://localhost:8080/"
        },
        "id": "e-AQTBvOQzHH",
        "outputId": "0d90dead-96fe-4fca-d444-d8ef9623eccf"
      },
      "source": [
        "idades = []\n",
        "type(idades)"
      ],
      "execution_count": null,
      "outputs": [
        {
          "output_type": "execute_result",
          "data": {
            "text/plain": [
              "list"
            ]
          },
          "metadata": {},
          "execution_count": 8
        }
      ]
    },
    {
      "cell_type": "code",
      "metadata": {
        "id": "EkzUJQIJQ3oO"
      },
      "source": [
        "def insereIdadeNaLista():\n",
        "  idade = int(input(\"Qual idade deseja inserir? \"))\n",
        "  idades.append(idade)"
      ],
      "execution_count": null,
      "outputs": []
    },
    {
      "cell_type": "code",
      "metadata": {
        "colab": {
          "base_uri": "https://localhost:8080/"
        },
        "id": "cCLChWMgRXmU",
        "outputId": "a04abecf-a7a8-43d0-d0eb-89f65d91fc4d"
      },
      "source": [
        "insereIdadeNaLista()\n",
        "idades"
      ],
      "execution_count": null,
      "outputs": [
        {
          "name": "stdout",
          "output_type": "stream",
          "text": [
            "Qual idade deseja inserir? 80\n"
          ]
        },
        {
          "output_type": "execute_result",
          "data": {
            "text/plain": [
              "[10, 11, 20, 80]"
            ]
          },
          "metadata": {},
          "execution_count": 16
        }
      ]
    },
    {
      "cell_type": "code",
      "metadata": {
        "id": "nSmV1cJBRZTp"
      },
      "source": [
        "def buscaDoisPrimeirosValoresIdades():\n",
        "  print(f'Os dois primeiros valores da lista são {idades[0:2]}')"
      ],
      "execution_count": null,
      "outputs": []
    },
    {
      "cell_type": "code",
      "metadata": {
        "colab": {
          "base_uri": "https://localhost:8080/"
        },
        "id": "ltokMKHTSJbh",
        "outputId": "27a496ec-0211-47a4-fbf1-c91fdb33a6e9"
      },
      "source": [
        "buscaDoisPrimeirosValoresIdades()"
      ],
      "execution_count": null,
      "outputs": [
        {
          "output_type": "stream",
          "name": "stdout",
          "text": [
            "Os dois primeiros valores da lista são [10, 11]\n"
          ]
        }
      ]
    },
    {
      "cell_type": "code",
      "metadata": {
        "id": "R2CZU0hySLaQ"
      },
      "source": [
        "def verificaMaiorDeIdade(idade):\n",
        "  if idade >= 18:\n",
        "    print(f'{idade} Tem permissão para dirigir')\n",
        "  else:\n",
        "    print(f'{idade} Não tem permissão para dirigir')"
      ],
      "execution_count": null,
      "outputs": []
    },
    {
      "cell_type": "code",
      "metadata": {
        "colab": {
          "base_uri": "https://localhost:8080/"
        },
        "id": "XS4_FyFWTl8f",
        "outputId": "8ae5d149-6a86-4a21-b9e3-3be8061ffc03"
      },
      "source": [
        "for idade in idades:\n",
        "  verificaMaiorDeIdade(idade)"
      ],
      "execution_count": null,
      "outputs": [
        {
          "output_type": "stream",
          "name": "stdout",
          "text": [
            "10 Não tem permissão para dirigir\n",
            "11 Não tem permissão para dirigir\n",
            "20 Tem permissão para dirigir\n",
            "80 Tem permissão para dirigir\n"
          ]
        }
      ]
    },
    {
      "cell_type": "code",
      "metadata": {
        "id": "yBA8jD6VTqaP"
      },
      "source": [
        "def verificaMaiorDeIdadeLista(idades):\n",
        "  for idade in idades:\n",
        "    if idade >= 18:\n",
        "      print(f'{idade} Tem permissão para dirigir')\n",
        "    else:\n",
        "      print(f'{idade} Não tem permissão para dirigir')"
      ],
      "execution_count": null,
      "outputs": []
    },
    {
      "cell_type": "code",
      "metadata": {
        "colab": {
          "base_uri": "https://localhost:8080/"
        },
        "id": "rpqaOZGMT-CO",
        "outputId": "00b3906d-5d5e-4735-9592-f7f31600cf16"
      },
      "source": [
        "verificaMaiorDeIdadeLista(idades)"
      ],
      "execution_count": null,
      "outputs": [
        {
          "output_type": "stream",
          "name": "stdout",
          "text": [
            "10 Não tem permissão para dirigir\n",
            "11 Não tem permissão para dirigir\n",
            "20 Tem permissão para dirigir\n",
            "80 Tem permissão para dirigir\n"
          ]
        }
      ]
    },
    {
      "cell_type": "markdown",
      "metadata": {
        "id": "gXxqa-a6USkP"
      },
      "source": [
        "# Boolean"
      ]
    },
    {
      "cell_type": "code",
      "metadata": {
        "id": "YHyeXxyUUZHF"
      },
      "source": [
        "permissoes = []\n",
        "idades = [12, 20, 30, 13]"
      ],
      "execution_count": null,
      "outputs": []
    },
    {
      "cell_type": "code",
      "metadata": {
        "id": "Pb_pk4GCVNll"
      },
      "source": [
        "def verificaPossibilidadeDeDirigir(idades, permissoes):\n",
        "  for idade in idades:\n",
        "    if idade >= 18:\n",
        "      permissoes.append(True)\n",
        "    else:\n",
        "      permissoes.append(False)"
      ],
      "execution_count": null,
      "outputs": []
    },
    {
      "cell_type": "code",
      "metadata": {
        "id": "CtTxqTn5Vh4q"
      },
      "source": [
        "verificaPossibilidadeDeDirigir(idades, permissoes)"
      ],
      "execution_count": null,
      "outputs": []
    },
    {
      "cell_type": "code",
      "metadata": {
        "colab": {
          "base_uri": "https://localhost:8080/"
        },
        "id": "SwHQeS-oVlv-",
        "outputId": "515b8468-536f-4439-c3ae-2ca4432bf40f"
      },
      "source": [
        "permissoes"
      ],
      "execution_count": null,
      "outputs": [
        {
          "output_type": "execute_result",
          "data": {
            "text/plain": [
              "[False, True, True, False]"
            ]
          },
          "metadata": {},
          "execution_count": 38
        }
      ]
    },
    {
      "cell_type": "code",
      "metadata": {
        "colab": {
          "base_uri": "https://localhost:8080/"
        },
        "id": "5uevbzpEVnRT",
        "outputId": "a1c7d0a7-e069-4182-9b95-967f4567ffb9"
      },
      "source": [
        "for permissao in permissoes:\n",
        "  if permissao == True:\n",
        "    print(\"Tem permissão para dirigir\")\n",
        "  else:\n",
        "    print(\"Não tem permissão para dirigir\")"
      ],
      "execution_count": null,
      "outputs": [
        {
          "output_type": "stream",
          "name": "stdout",
          "text": [
            "Não tem permissão para dirigir\n",
            "Tem permissão para dirigir\n",
            "Tem permissão para dirigir\n",
            "Não tem permissão para dirigir\n"
          ]
        }
      ]
    },
    {
      "cell_type": "code",
      "metadata": {
        "colab": {
          "base_uri": "https://localhost:8080/"
        },
        "id": "g6GBfqNMV3pd",
        "outputId": "b0ca2458-567a-4989-bdd7-1ec65bc79d98"
      },
      "source": [
        "a = 3.13\n",
        "type(a)"
      ],
      "execution_count": null,
      "outputs": [
        {
          "output_type": "execute_result",
          "data": {
            "text/plain": [
              "float"
            ]
          },
          "metadata": {},
          "execution_count": 40
        }
      ]
    },
    {
      "cell_type": "code",
      "metadata": {
        "colab": {
          "base_uri": "https://localhost:8080/"
        },
        "id": "3PBMWFtJWuS4",
        "outputId": "e9dfb973-6fc5-48b0-d1b7-8ab2aa7ac3e6"
      },
      "source": [
        "b = 2,13\n",
        "type(b)"
      ],
      "execution_count": null,
      "outputs": [
        {
          "output_type": "execute_result",
          "data": {
            "text/plain": [
              "tuple"
            ]
          },
          "metadata": {},
          "execution_count": 41
        }
      ]
    },
    {
      "cell_type": "code",
      "metadata": {
        "id": "bUyrlwFCWxbo",
        "colab": {
          "base_uri": "https://localhost:8080/"
        },
        "outputId": "ea08c1fb-668b-4d58-e191-e82987837a8f"
      },
      "source": [
        "b"
      ],
      "execution_count": null,
      "outputs": [
        {
          "output_type": "execute_result",
          "data": {
            "text/plain": [
              "(2, 13)"
            ]
          },
          "metadata": {},
          "execution_count": 42
        }
      ]
    },
    {
      "cell_type": "code",
      "metadata": {
        "id": "4x6kDXHKWzcb"
      },
      "source": [
        ""
      ],
      "execution_count": null,
      "outputs": []
    },
    {
      "cell_type": "markdown",
      "metadata": {
        "id": "wuczbQgXVuQC"
      },
      "source": [
        "# Tipos em uma lista"
      ]
    },
    {
      "cell_type": "code",
      "metadata": {
        "colab": {
          "base_uri": "https://localhost:8080/"
        },
        "id": "miuzSPTzVzND",
        "outputId": "0707eb68-8daf-4a3c-af64-08c8c4d9dc59"
      },
      "source": [
        "lista = ['Lucas', True, 23]\n",
        "\n",
        "for componente in lista:\n",
        "  print(f'O componente {componente} é do tipo: ', type(componente))"
      ],
      "execution_count": 2,
      "outputs": [
        {
          "output_type": "stream",
          "name": "stdout",
          "text": [
            "O componente Lucas é do tipo:  <class 'str'>\n",
            "O componente True é do tipo:  <class 'bool'>\n",
            "O componente 23 é do tipo:  <class 'int'>\n"
          ]
        }
      ]
    },
    {
      "cell_type": "code",
      "metadata": {
        "id": "mL0c2FWaWXyR"
      },
      "source": [
        ""
      ],
      "execution_count": null,
      "outputs": []
    },
    {
      "cell_type": "markdown",
      "metadata": {
        "id": "X1acYcVzYsC_"
      },
      "source": [
        "# Import"
      ]
    },
    {
      "cell_type": "code",
      "metadata": {
        "colab": {
          "base_uri": "https://localhost:8080/"
        },
        "id": "xIY2Gxp7YteL",
        "outputId": "c585c6cd-399c-4a4a-8180-9537ffec6459"
      },
      "source": [
        "from random import randrange\n",
        "type(randrange)"
      ],
      "execution_count": 12,
      "outputs": [
        {
          "output_type": "execute_result",
          "data": {
            "text/plain": [
              "method"
            ]
          },
          "metadata": {},
          "execution_count": 12
        }
      ]
    },
    {
      "cell_type": "code",
      "metadata": {
        "colab": {
          "base_uri": "https://localhost:8080/"
        },
        "id": "_YWYKim8Yx_T",
        "outputId": "6e7cd938-cd4d-4aec-f23c-c2b73894d510"
      },
      "source": [
        "randrange(0,11)"
      ],
      "execution_count": 5,
      "outputs": [
        {
          "output_type": "execute_result",
          "data": {
            "text/plain": [
              "8"
            ]
          },
          "metadata": {},
          "execution_count": 5
        }
      ]
    },
    {
      "cell_type": "code",
      "metadata": {
        "id": "k6--dtLKY0uh"
      },
      "source": [
        "notas = []\n",
        "\n",
        "for nota in range(8):\n",
        "  notas.append(randrange(1,11))"
      ],
      "execution_count": 8,
      "outputs": []
    },
    {
      "cell_type": "code",
      "metadata": {
        "colab": {
          "base_uri": "https://localhost:8080/"
        },
        "id": "ceDU7TwmZA8e",
        "outputId": "170a83e5-98cb-4b76-b1ec-de5da4907caf"
      },
      "source": [
        "notas"
      ],
      "execution_count": 9,
      "outputs": [
        {
          "output_type": "execute_result",
          "data": {
            "text/plain": [
              "[5, 4, 10, 2, 4, 5, 1, 1]"
            ]
          },
          "metadata": {},
          "execution_count": 9
        }
      ]
    },
    {
      "cell_type": "code",
      "metadata": {
        "id": "TE-zP7lNZBle"
      },
      "source": [
        ""
      ],
      "execution_count": null,
      "outputs": []
    }
  ]
}